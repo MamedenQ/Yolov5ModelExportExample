{
  "nbformat": 4,
  "nbformat_minor": 0,
  "metadata": {
    "colab": {
      "name": "YOLOv5モデルを別な形式のモデルに変換.ipynb",
      "provenance": [],
      "collapsed_sections": [],
      "mount_file_id": "1SCrCxG6Y3Ewy9_H52ISB-CK1W4Me3C0p",
      "authorship_tag": "ABX9TyOLvlN8FwjHWIAN0E1RA8K+",
      "include_colab_link": true
    },
    "kernelspec": {
      "name": "python3",
      "display_name": "Python 3"
    },
    "language_info": {
      "name": "python"
    },
    "gpuClass": "standard"
  },
  "cells": [
    {
      "cell_type": "markdown",
      "metadata": {
        "id": "view-in-github",
        "colab_type": "text"
      },
      "source": [
        "<a href=\"https://colab.research.google.com/github/MamedenQ/Yolov5ModelExportExample/blob/main/YOLOv5%E3%83%A2%E3%83%87%E3%83%AB%E3%82%92%E5%88%A5%E3%81%AA%E5%BD%A2%E5%BC%8F%E3%81%AE%E3%83%A2%E3%83%87%E3%83%AB%E3%81%AB%E5%A4%89%E6%8F%9B.ipynb\" target=\"_parent\"><img src=\"https://colab.research.google.com/assets/colab-badge.svg\" alt=\"Open In Colab\"/></a>"
      ]
    },
    {
      "cell_type": "markdown",
      "source": [
        "# YOLOv5のインストール"
      ],
      "metadata": {
        "id": "ahsqjHDOiDeo"
      }
    },
    {
      "cell_type": "code",
      "execution_count": null,
      "metadata": {
        "id": "TvDSszQnVQ2q"
      },
      "outputs": [],
      "source": [
        "!git clone https://github.com/ultralytics/yolov5\n",
        "\n",
        "%cd yolov5\n",
        "!pip install -r /content/yolov5/requirements.txt"
      ]
    },
    {
      "cell_type": "markdown",
      "source": [
        "# モデルを変換"
      ],
      "metadata": {
        "id": "PRgR05gMIuUr"
      }
    },
    {
      "cell_type": "code",
      "source": [
        "!python export.py --weights yolov5s.pt --include tfjs"
      ],
      "metadata": {
        "id": "r0r3QsU2IwMk"
      },
      "execution_count": null,
      "outputs": []
    }
  ]
}